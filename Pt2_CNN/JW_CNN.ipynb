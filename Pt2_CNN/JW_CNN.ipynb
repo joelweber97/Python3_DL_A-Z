{
 "cells": [
  {
   "cell_type": "code",
   "execution_count": 1,
   "id": "3520cddd",
   "metadata": {},
   "outputs": [],
   "source": [
    "import numpy as np\n",
    "import tensorflow as tf\n",
    "from tensorflow.keras.preprocessing.image import ImageDataGenerator\n",
    "from tensorflow.keras.preprocessing import image\n",
    "import os\n",
    "from tensorflow.keras.layers import Conv2D, Dense, MaxPool2D, Flatten\n",
    "from tensorflow.keras.models import Sequential\n"
   ]
  },
  {
   "cell_type": "code",
   "execution_count": 2,
   "id": "45e07ec4",
   "metadata": {},
   "outputs": [
    {
     "name": "stdout",
     "output_type": "stream",
     "text": [
      "Default GPU Device:/device:GPU:0\n"
     ]
    }
   ],
   "source": [
    "if tf.test.gpu_device_name(): \n",
    "    print('Default GPU Device:{}'.format(tf.test.gpu_device_name()))\n",
    "else:\n",
    "   print(\"Please install GPU version of TF\")"
   ]
  },
  {
   "cell_type": "code",
   "execution_count": 3,
   "id": "ad29469f",
   "metadata": {},
   "outputs": [
    {
     "name": "stdout",
     "output_type": "stream",
     "text": [
      "C:\\Users\\joelw\\Python3_DL_A-Z\\Pt2_CNN\n"
     ]
    }
   ],
   "source": [
    "print(os.getcwd())"
   ]
  },
  {
   "cell_type": "code",
   "execution_count": 4,
   "id": "c8a77f21",
   "metadata": {},
   "outputs": [],
   "source": [
    "train_datagen = ImageDataGenerator(rescale = 1.0/255, \n",
    "                                   shear_range = 0.2, \n",
    "                                   zoom_range = 0.2, \n",
    "                                   horizontal_flip = True, \n",
    "                                   rotation_range = 0.2)"
   ]
  },
  {
   "cell_type": "code",
   "execution_count": 5,
   "id": "07990295",
   "metadata": {},
   "outputs": [
    {
     "name": "stdout",
     "output_type": "stream",
     "text": [
      "Found 8000 images belonging to 2 classes.\n"
     ]
    }
   ],
   "source": [
    "training_set = train_datagen.flow_from_directory('./dataset/training_set/', \n",
    "                                                 target_size = (64,64), \n",
    "                                                 batch_size = 32, \n",
    "                                                 class_mode = 'binary')"
   ]
  },
  {
   "cell_type": "code",
   "execution_count": 6,
   "id": "12e187ed",
   "metadata": {},
   "outputs": [],
   "source": [
    "test_datagen = ImageDataGenerator(rescale = 1.0/255)"
   ]
  },
  {
   "cell_type": "code",
   "execution_count": 7,
   "id": "e9416956",
   "metadata": {},
   "outputs": [
    {
     "name": "stdout",
     "output_type": "stream",
     "text": [
      "Found 2000 images belonging to 2 classes.\n"
     ]
    }
   ],
   "source": [
    "test_set = test_datagen.flow_from_directory('./dataset/test_set/', \n",
    "                                            target_size = (64,64), \n",
    "                                            batch_size = 32, \n",
    "                                            class_mode = 'binary')"
   ]
  },
  {
   "cell_type": "code",
   "execution_count": 8,
   "id": "61f43d4b",
   "metadata": {},
   "outputs": [],
   "source": [
    "cnn = Sequential()"
   ]
  },
  {
   "cell_type": "code",
   "execution_count": 9,
   "id": "7dfba4a6",
   "metadata": {},
   "outputs": [],
   "source": [
    "cnn.add(Conv2D(filters=32, kernel_size=3, activation='relu', input_shape = [64,64,3]))\n",
    "cnn.add(MaxPool2D(pool_size=(2,2), strides = 2))\n",
    "cnn.add(Conv2D(filters=32, kernel_size = 3, activation='relu'))\n",
    "cnn.add(MaxPool2D(pool_size=2, strides=2))\n",
    "cnn.add(Flatten())\n",
    "\n",
    "cnn.add(Dense(units=128, activation = 'relu'))\n",
    "cnn.add(Dense(units =1, activation = 'sigmoid'))"
   ]
  },
  {
   "cell_type": "code",
   "execution_count": 10,
   "id": "9ed8f2bf",
   "metadata": {},
   "outputs": [],
   "source": [
    "cnn.compile(optimizer = 'adam', loss = 'binary_crossentropy', metrics = ['accuracy'])"
   ]
  },
  {
   "cell_type": "code",
   "execution_count": 11,
   "id": "fde7dd07",
   "metadata": {},
   "outputs": [
    {
     "name": "stdout",
     "output_type": "stream",
     "text": [
      "Epoch 1/25\n",
      "250/250 [==============================] - 31s 114ms/step - loss: 0.7191 - accuracy: 0.5226 - val_loss: 0.6437 - val_accuracy: 0.6445\n",
      "Epoch 2/25\n",
      "250/250 [==============================] - 28s 111ms/step - loss: 0.6290 - accuracy: 0.6481 - val_loss: 0.6376 - val_accuracy: 0.6480\n",
      "Epoch 3/25\n",
      "250/250 [==============================] - 28s 112ms/step - loss: 0.5854 - accuracy: 0.6921 - val_loss: 0.5542 - val_accuracy: 0.7235\n",
      "Epoch 4/25\n",
      "250/250 [==============================] - 28s 110ms/step - loss: 0.5505 - accuracy: 0.7193 - val_loss: 0.5025 - val_accuracy: 0.7570\n",
      "Epoch 5/25\n",
      "250/250 [==============================] - 27s 109ms/step - loss: 0.5155 - accuracy: 0.7409 - val_loss: 0.5595 - val_accuracy: 0.7235\n",
      "Epoch 6/25\n",
      "250/250 [==============================] - 27s 109ms/step - loss: 0.4983 - accuracy: 0.7635 - val_loss: 0.5053 - val_accuracy: 0.7560\n",
      "Epoch 7/25\n",
      "250/250 [==============================] - 27s 109ms/step - loss: 0.4870 - accuracy: 0.7615 - val_loss: 0.6479 - val_accuracy: 0.6745\n",
      "Epoch 8/25\n",
      "250/250 [==============================] - 28s 110ms/step - loss: 0.4654 - accuracy: 0.7768 - val_loss: 0.4529 - val_accuracy: 0.7890\n",
      "Epoch 9/25\n",
      "250/250 [==============================] - 27s 109ms/step - loss: 0.4526 - accuracy: 0.7798 - val_loss: 0.4562 - val_accuracy: 0.7875\n",
      "Epoch 10/25\n",
      "250/250 [==============================] - 28s 110ms/step - loss: 0.4282 - accuracy: 0.7981 - val_loss: 0.4643 - val_accuracy: 0.7810\n",
      "Epoch 11/25\n",
      "250/250 [==============================] - 28s 112ms/step - loss: 0.4051 - accuracy: 0.8105 - val_loss: 0.4549 - val_accuracy: 0.7915\n",
      "Epoch 12/25\n",
      "250/250 [==============================] - 28s 110ms/step - loss: 0.4087 - accuracy: 0.8098 - val_loss: 0.4723 - val_accuracy: 0.7840\n",
      "Epoch 13/25\n",
      "250/250 [==============================] - 28s 110ms/step - loss: 0.3957 - accuracy: 0.8230 - val_loss: 0.4462 - val_accuracy: 0.8105\n",
      "Epoch 14/25\n",
      "250/250 [==============================] - 27s 110ms/step - loss: 0.3833 - accuracy: 0.8286 - val_loss: 0.4424 - val_accuracy: 0.7965\n",
      "Epoch 15/25\n",
      "250/250 [==============================] - 27s 110ms/step - loss: 0.3709 - accuracy: 0.8293 - val_loss: 0.4596 - val_accuracy: 0.8110\n",
      "Epoch 16/25\n",
      "250/250 [==============================] - 28s 111ms/step - loss: 0.3590 - accuracy: 0.8369 - val_loss: 0.4460 - val_accuracy: 0.8055\n",
      "Epoch 17/25\n",
      "250/250 [==============================] - 27s 109ms/step - loss: 0.3584 - accuracy: 0.8429 - val_loss: 0.4507 - val_accuracy: 0.8150\n",
      "Epoch 18/25\n",
      "250/250 [==============================] - 27s 110ms/step - loss: 0.3335 - accuracy: 0.8510 - val_loss: 0.4373 - val_accuracy: 0.8120\n",
      "Epoch 19/25\n",
      "250/250 [==============================] - 27s 109ms/step - loss: 0.3320 - accuracy: 0.8607 - val_loss: 0.4378 - val_accuracy: 0.8240\n",
      "Epoch 20/25\n",
      "250/250 [==============================] - 27s 109ms/step - loss: 0.3018 - accuracy: 0.8726 - val_loss: 0.4472 - val_accuracy: 0.8165\n",
      "Epoch 21/25\n",
      "250/250 [==============================] - 27s 110ms/step - loss: 0.3068 - accuracy: 0.8651 - val_loss: 0.5268 - val_accuracy: 0.7960\n",
      "Epoch 22/25\n",
      "250/250 [==============================] - 28s 110ms/step - loss: 0.3013 - accuracy: 0.8699 - val_loss: 0.5315 - val_accuracy: 0.7825\n",
      "Epoch 23/25\n",
      "250/250 [==============================] - 27s 109ms/step - loss: 0.2869 - accuracy: 0.8720 - val_loss: 0.4942 - val_accuracy: 0.8015\n",
      "Epoch 24/25\n",
      "250/250 [==============================] - 28s 110ms/step - loss: 0.2670 - accuracy: 0.8860 - val_loss: 0.4993 - val_accuracy: 0.8035\n",
      "Epoch 25/25\n",
      "250/250 [==============================] - 27s 110ms/step - loss: 0.2632 - accuracy: 0.8899 - val_loss: 0.4982 - val_accuracy: 0.8045\n"
     ]
    },
    {
     "data": {
      "text/plain": [
       "<tensorflow.python.keras.callbacks.History at 0x26b4f2b1970>"
      ]
     },
     "execution_count": 11,
     "metadata": {},
     "output_type": "execute_result"
    }
   ],
   "source": [
    "cnn.fit(x = training_set, validation_data = test_set, epochs = 25)"
   ]
  },
  {
   "cell_type": "code",
   "execution_count": 12,
   "id": "1edf7376",
   "metadata": {},
   "outputs": [],
   "source": [
    "test_image = image.load_img('dataset/single_prediction/cat_or_dog_1.jpg', target_size = (64,64))\n",
    "test_image = image.img_to_array(test_image)\n",
    "test_image = np.expand_dims(test_image, axis=0)\n",
    "result = cnn.predict(test_image/255)"
   ]
  },
  {
   "cell_type": "code",
   "execution_count": 13,
   "id": "9f6f0d12",
   "metadata": {},
   "outputs": [
    {
     "data": {
      "text/plain": [
       "array([[0.9999119]], dtype=float32)"
      ]
     },
     "execution_count": 13,
     "metadata": {},
     "output_type": "execute_result"
    }
   ],
   "source": [
    "result"
   ]
  },
  {
   "cell_type": "code",
   "execution_count": 14,
   "id": "ff24a204",
   "metadata": {},
   "outputs": [
    {
     "data": {
      "text/plain": [
       "{'cats': 0, 'dogs': 1}"
      ]
     },
     "execution_count": 14,
     "metadata": {},
     "output_type": "execute_result"
    }
   ],
   "source": [
    "training_set.class_indices"
   ]
  },
  {
   "cell_type": "code",
   "execution_count": 15,
   "id": "7def59c5",
   "metadata": {},
   "outputs": [],
   "source": [
    "if result[0][0] > 0.5:\n",
    "    prediction = 'dog'\n",
    "else:\n",
    "    prediction = 'cat'\n",
    "    "
   ]
  },
  {
   "cell_type": "code",
   "execution_count": 16,
   "id": "04a11de3",
   "metadata": {},
   "outputs": [
    {
     "name": "stdout",
     "output_type": "stream",
     "text": [
      "dog\n"
     ]
    }
   ],
   "source": [
    "print(prediction)"
   ]
  },
  {
   "cell_type": "code",
   "execution_count": 17,
   "id": "6435d5a6",
   "metadata": {},
   "outputs": [],
   "source": [
    "from numba import cuda \n",
    "device = cuda.get_current_device()\n",
    "device.reset()\n"
   ]
  },
  {
   "cell_type": "code",
   "execution_count": null,
   "id": "d3c40c3f",
   "metadata": {},
   "outputs": [],
   "source": []
  }
 ],
 "metadata": {
  "kernelspec": {
   "display_name": "Python 3",
   "language": "python",
   "name": "python3"
  },
  "language_info": {
   "codemirror_mode": {
    "name": "ipython",
    "version": 3
   },
   "file_extension": ".py",
   "mimetype": "text/x-python",
   "name": "python",
   "nbconvert_exporter": "python",
   "pygments_lexer": "ipython3",
   "version": "3.8.0"
  }
 },
 "nbformat": 4,
 "nbformat_minor": 5
}
