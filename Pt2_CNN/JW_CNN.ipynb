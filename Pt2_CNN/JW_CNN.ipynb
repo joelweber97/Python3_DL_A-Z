{
 "cells": [
  {
   "cell_type": "code",
   "execution_count": 3,
   "id": "3520cddd",
   "metadata": {},
   "outputs": [],
   "source": [
    "import numpy as np"
   ]
  },
  {
   "cell_type": "code",
   "execution_count": 1,
   "id": "99810a0b",
   "metadata": {},
   "outputs": [],
   "source": [
    "arr1 = [[0,0,0],[0,1,0],[0,0,0]]\n",
    "arr2 = [[0,0,1],[1,0,0],[0,1,1]]"
   ]
  },
  {
   "cell_type": "code",
   "execution_count": 5,
   "id": "b412f2f8",
   "metadata": {},
   "outputs": [
    {
     "data": {
      "text/plain": [
       "array([[0, 0, 0],\n",
       "       [0, 0, 0],\n",
       "       [0, 0, 0]])"
      ]
     },
     "execution_count": 5,
     "metadata": {},
     "output_type": "execute_result"
    }
   ],
   "source": [
    "np.multiply(arr1,arr2)"
   ]
  },
  {
   "cell_type": "code",
   "execution_count": null,
   "id": "ad29469f",
   "metadata": {},
   "outputs": [],
   "source": []
  }
 ],
 "metadata": {
  "kernelspec": {
   "display_name": "Python 3",
   "language": "python",
   "name": "python3"
  },
  "language_info": {
   "codemirror_mode": {
    "name": "ipython",
    "version": 3
   },
   "file_extension": ".py",
   "mimetype": "text/x-python",
   "name": "python",
   "nbconvert_exporter": "python",
   "pygments_lexer": "ipython3",
   "version": "3.8.0"
  }
 },
 "nbformat": 4,
 "nbformat_minor": 5
}
