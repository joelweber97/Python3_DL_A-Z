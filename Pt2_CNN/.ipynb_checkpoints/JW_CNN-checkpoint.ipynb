{
 "cells": [
  {
   "cell_type": "code",
   "execution_count": 1,
   "id": "3520cddd",
   "metadata": {},
   "outputs": [],
   "source": [
    "import numpy as np\n",
    "import tensorflow as tf\n",
    "from keras.preprocessing.image import ImageDataGenerator\n",
    "from keras.preprocessing import image\n",
    "import os\n",
    "import glob\n",
    "from tensorflow.keras.layers import Conv2D, Dense, MaxPool2D, Flatten\n",
    "from tensorflow.keras.models import Sequential\n"
   ]
  },
  {
   "cell_type": "code",
   "execution_count": 2,
   "id": "ad29469f",
   "metadata": {},
   "outputs": [
    {
     "name": "stdout",
     "output_type": "stream",
     "text": [
      "/Users/joelweber/github/Python3_DL_A-Z/Pt2_CNN\n"
     ]
    }
   ],
   "source": [
    "print(os.getcwd())"
   ]
  },
  {
   "cell_type": "code",
   "execution_count": 3,
   "id": "c8a77f21",
   "metadata": {},
   "outputs": [],
   "source": [
    "train_datagen = ImageDataGenerator(rescale = 1.0/255, \n",
    "                                   shear_range = 0.2, \n",
    "                                   zoom_range = 0.2, \n",
    "                                   horizontal_flip = True, \n",
    "                                   rotation_range = 0.2)"
   ]
  },
  {
   "cell_type": "code",
   "execution_count": 4,
   "id": "07990295",
   "metadata": {},
   "outputs": [
    {
     "name": "stdout",
     "output_type": "stream",
     "text": [
      "Found 8000 images belonging to 2 classes.\n"
     ]
    }
   ],
   "source": [
    "training_set = train_datagen.flow_from_directory('./dataset/training_set/', \n",
    "                                                 target_size = (64,64), \n",
    "                                                 batch_size = 32, \n",
    "                                                 class_mode = 'binary')"
   ]
  },
  {
   "cell_type": "code",
   "execution_count": 5,
   "id": "12e187ed",
   "metadata": {},
   "outputs": [],
   "source": [
    "test_datagen = ImageDataGenerator(rescale = 1.0/255)"
   ]
  },
  {
   "cell_type": "code",
   "execution_count": 6,
   "id": "e9416956",
   "metadata": {},
   "outputs": [
    {
     "name": "stdout",
     "output_type": "stream",
     "text": [
      "Found 2000 images belonging to 2 classes.\n"
     ]
    }
   ],
   "source": [
    "test_set = test_datagen.flow_from_directory('./dataset/test_set/', \n",
    "                                            target_size = (64,64), \n",
    "                                            batch_size = 32, \n",
    "                                            class_mode = 'binary')"
   ]
  },
  {
   "cell_type": "code",
   "execution_count": 7,
   "id": "61f43d4b",
   "metadata": {},
   "outputs": [],
   "source": [
    "cnn = Sequential()"
   ]
  },
  {
   "cell_type": "code",
   "execution_count": 8,
   "id": "7dfba4a6",
   "metadata": {},
   "outputs": [],
   "source": [
    "cnn.add(Conv2D(filters=32, kernel_size=3, activation='relu', input_shape = [64,64,3]))\n",
    "cnn.add(MaxPool2D(pool_size=(2,2), strides = 2))\n",
    "cnn.add(Conv2D(filters=32, kernel_size = 3, activation='relu'))\n",
    "cnn.add(MaxPool2D(pool_size=2, strides=2))\n",
    "cnn.add(Flatten())\n",
    "\n",
    "cnn.add(Dense(units=128, activation = 'relu'))\n",
    "cnn.add(Dense(units =1, activation = 'sigmoid'))"
   ]
  },
  {
   "cell_type": "code",
   "execution_count": 9,
   "id": "9ed8f2bf",
   "metadata": {},
   "outputs": [],
   "source": [
    "cnn.compile(optimizer = 'adam', loss = 'binary_crossentropy', metrics = ['accuracy'])"
   ]
  },
  {
   "cell_type": "code",
   "execution_count": 10,
   "id": "fde7dd07",
   "metadata": {},
   "outputs": [
    {
     "name": "stdout",
     "output_type": "stream",
     "text": [
      "Epoch 1/25\n",
      "250/250 [==============================] - 52s 205ms/step - loss: 0.6631 - accuracy: 0.5976 - val_loss: 0.5990 - val_accuracy: 0.6795\n",
      "Epoch 2/25\n",
      "250/250 [==============================] - 45s 180ms/step - loss: 0.5969 - accuracy: 0.6796 - val_loss: 0.5711 - val_accuracy: 0.7080\n",
      "Epoch 3/25\n",
      "250/250 [==============================] - 44s 177ms/step - loss: 0.5699 - accuracy: 0.7031 - val_loss: 0.5959 - val_accuracy: 0.6955\n",
      "Epoch 4/25\n",
      "250/250 [==============================] - 43s 171ms/step - loss: 0.5341 - accuracy: 0.7269 - val_loss: 0.5031 - val_accuracy: 0.7655\n",
      "Epoch 5/25\n",
      "250/250 [==============================] - 49s 195ms/step - loss: 0.5074 - accuracy: 0.7489 - val_loss: 0.4988 - val_accuracy: 0.7625\n",
      "Epoch 6/25\n",
      "250/250 [==============================] - 46s 183ms/step - loss: 0.4808 - accuracy: 0.7684 - val_loss: 0.6214 - val_accuracy: 0.7115\n",
      "Epoch 7/25\n",
      "250/250 [==============================] - 51s 203ms/step - loss: 0.4654 - accuracy: 0.7766 - val_loss: 0.4618 - val_accuracy: 0.7880\n",
      "Epoch 8/25\n",
      "250/250 [==============================] - 53s 210ms/step - loss: 0.4442 - accuracy: 0.7910 - val_loss: 0.4654 - val_accuracy: 0.7950\n",
      "Epoch 9/25\n",
      "250/250 [==============================] - 56s 223ms/step - loss: 0.4280 - accuracy: 0.7994 - val_loss: 0.5400 - val_accuracy: 0.7500\n",
      "Epoch 10/25\n",
      "250/250 [==============================] - 52s 209ms/step - loss: 0.4161 - accuracy: 0.8066 - val_loss: 0.4731 - val_accuracy: 0.7785\n",
      "Epoch 11/25\n",
      "250/250 [==============================] - 60s 239ms/step - loss: 0.4093 - accuracy: 0.8069 - val_loss: 0.4705 - val_accuracy: 0.8015\n",
      "Epoch 12/25\n",
      "250/250 [==============================] - 53s 214ms/step - loss: 0.3942 - accuracy: 0.8226 - val_loss: 0.4447 - val_accuracy: 0.7975\n",
      "Epoch 13/25\n",
      "250/250 [==============================] - 50s 200ms/step - loss: 0.3762 - accuracy: 0.8291 - val_loss: 0.5011 - val_accuracy: 0.7695\n",
      "Epoch 14/25\n",
      "250/250 [==============================] - 52s 206ms/step - loss: 0.3671 - accuracy: 0.8374 - val_loss: 0.4553 - val_accuracy: 0.8070\n",
      "Epoch 15/25\n",
      "250/250 [==============================] - 53s 212ms/step - loss: 0.3491 - accuracy: 0.8446 - val_loss: 0.4461 - val_accuracy: 0.8010\n",
      "Epoch 16/25\n",
      "250/250 [==============================] - 55s 219ms/step - loss: 0.3373 - accuracy: 0.8521 - val_loss: 0.4667 - val_accuracy: 0.7985\n",
      "Epoch 17/25\n",
      "250/250 [==============================] - 47s 190ms/step - loss: 0.3199 - accuracy: 0.8611 - val_loss: 0.4538 - val_accuracy: 0.7985\n",
      "Epoch 18/25\n",
      "250/250 [==============================] - 46s 186ms/step - loss: 0.3021 - accuracy: 0.8680 - val_loss: 0.4739 - val_accuracy: 0.8025\n",
      "Epoch 19/25\n",
      "250/250 [==============================] - 40s 160ms/step - loss: 0.3014 - accuracy: 0.8704 - val_loss: 0.4992 - val_accuracy: 0.7985\n",
      "Epoch 20/25\n",
      "250/250 [==============================] - 46s 186ms/step - loss: 0.2722 - accuracy: 0.8826 - val_loss: 0.5267 - val_accuracy: 0.7870\n",
      "Epoch 21/25\n",
      "250/250 [==============================] - 41s 165ms/step - loss: 0.2608 - accuracy: 0.8916 - val_loss: 0.5006 - val_accuracy: 0.7945\n",
      "Epoch 22/25\n",
      "250/250 [==============================] - 40s 161ms/step - loss: 0.2430 - accuracy: 0.9004 - val_loss: 0.5846 - val_accuracy: 0.7720\n",
      "Epoch 23/25\n",
      "250/250 [==============================] - 45s 179ms/step - loss: 0.2460 - accuracy: 0.8969 - val_loss: 0.4907 - val_accuracy: 0.8015\n",
      "Epoch 24/25\n",
      "250/250 [==============================] - 55s 220ms/step - loss: 0.2268 - accuracy: 0.9090 - val_loss: 0.5117 - val_accuracy: 0.8155\n",
      "Epoch 25/25\n",
      "250/250 [==============================] - 57s 229ms/step - loss: 0.2192 - accuracy: 0.9101 - val_loss: 0.5428 - val_accuracy: 0.8030\n"
     ]
    },
    {
     "data": {
      "text/plain": [
       "<tensorflow.python.keras.callbacks.History at 0x7ffcad263100>"
      ]
     },
     "execution_count": 10,
     "metadata": {},
     "output_type": "execute_result"
    }
   ],
   "source": [
    "cnn.fit(x = training_set, validation_data = test_set, epochs = 25)"
   ]
  },
  {
   "cell_type": "code",
   "execution_count": 16,
   "id": "1edf7376",
   "metadata": {},
   "outputs": [],
   "source": [
    "test_image = image.load_img('dataset/single_prediction/cat_or_dog_2.jpg', target_size = (64,64))\n",
    "test_image = image.img_to_array(test_image)\n",
    "test_image = np.expand_dims(test_image, axis=0)\n",
    "result = cnn.predict(test_image/255)"
   ]
  },
  {
   "cell_type": "code",
   "execution_count": 17,
   "id": "9f6f0d12",
   "metadata": {},
   "outputs": [
    {
     "data": {
      "text/plain": [
       "array([[0.00672466]], dtype=float32)"
      ]
     },
     "execution_count": 17,
     "metadata": {},
     "output_type": "execute_result"
    }
   ],
   "source": [
    "result"
   ]
  },
  {
   "cell_type": "code",
   "execution_count": 18,
   "id": "ff24a204",
   "metadata": {},
   "outputs": [
    {
     "data": {
      "text/plain": [
       "{'cats': 0, 'dogs': 1}"
      ]
     },
     "execution_count": 18,
     "metadata": {},
     "output_type": "execute_result"
    }
   ],
   "source": [
    "training_set.class_indices"
   ]
  },
  {
   "cell_type": "code",
   "execution_count": 19,
   "id": "7def59c5",
   "metadata": {},
   "outputs": [],
   "source": [
    "if result[0][0] > 0.5:\n",
    "    prediction = 'dog'\n",
    "else:\n",
    "    prediction = 'cat'\n",
    "    "
   ]
  },
  {
   "cell_type": "code",
   "execution_count": 20,
   "id": "04a11de3",
   "metadata": {},
   "outputs": [
    {
     "name": "stdout",
     "output_type": "stream",
     "text": [
      "cat\n"
     ]
    }
   ],
   "source": [
    "print(prediction)"
   ]
  },
  {
   "cell_type": "code",
   "execution_count": null,
   "id": "6435d5a6",
   "metadata": {},
   "outputs": [],
   "source": []
  }
 ],
 "metadata": {
  "kernelspec": {
   "display_name": "Python 3",
   "language": "python",
   "name": "python3"
  },
  "language_info": {
   "codemirror_mode": {
    "name": "ipython",
    "version": 3
   },
   "file_extension": ".py",
   "mimetype": "text/x-python",
   "name": "python",
   "nbconvert_exporter": "python",
   "pygments_lexer": "ipython3",
   "version": "3.8.0"
  }
 },
 "nbformat": 4,
 "nbformat_minor": 5
}
